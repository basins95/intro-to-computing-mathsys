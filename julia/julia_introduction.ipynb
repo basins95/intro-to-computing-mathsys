{
 "cells": [
  {
   "cell_type": "markdown",
   "metadata": {},
   "source": [
    "# Introduction to Jupyter Notebooks and Julia"
   ]
  },
  {
   "cell_type": "markdown",
   "metadata": {},
   "source": [
    "## Jupyter Notebooks\n",
    "A Jupyter notebook allows cells of both markdown and code to place in series. These cells can be evaluated in turn.  Markdown cells can contain text and equations, for example,\n",
    "$$\n",
    "i\\hbar\\frac{\\partial \\psi}{\\partial t} = -\\frac{\\hbar^2}{2m}\\nabla^2\\psi + V\\psi.\n",
    "$$\n",
    "Equations use the same syntax as in LaTeX.\n",
    "\n",
    "Code cells can contain code of the language the notebook. In this case, we are using the Julia programming language, however notebooks with other programming languages (such as Python) are just as easily created.  Documentation for Jupyter can be found here http://jupyter.org/documentation.html.\n",
    "\n",
    "## Julia\n",
    "\n",
    "Julia is a scientific programming language, meaning it was created with ease of mathematical calculation in mind.\n",
    "\n",
    "### Advantages\n",
    "\n",
    "- Can be very fast (comparable to C).\n",
    "\n",
    "- Relatively intuitive and simple syntax.\n",
    "\n",
    "- Packages are easy to install and create.\n",
    "\n",
    "- Can call code from other languages (ccall, pycall, rcall).\n",
    "\n",
    "### Disadvantages\n",
    "\n",
    "- Relatively new (since 2012), however recently version 1.0.5 was released (you are using 1.0.4).\n",
    "\n",
    "- This means syntax has changed over time (so old code you find online may no longer work!).\n",
    "\n",
    "- Number of available libraries not as large as other languages (eg Python).\n",
    "\n",
    "The documentation for Julia can be found here https://docs.julialang.org/en/stable/, with the Introducing Julia wikibook also being highly useful (and more accessible to those newer to programming) https://en.wikibooks.org/wiki/Introducing_Julia.\n",
    "\n",
    "## Quick note\n",
    "We have uploaded the solutions to these exercises but please attempt them yourselves first!"
   ]
  },
  {
   "cell_type": "markdown",
   "metadata": {},
   "source": [
    "## Variables\n",
    "Variables have different types, which can be explicitly set or are implied.  Below are some examples:"
   ]
  },
  {
   "cell_type": "code",
   "execution_count": 1,
   "metadata": {},
   "outputs": [
    {
     "name": "stdout",
     "output_type": "stream",
     "text": [
      "Int64\n",
      "Float64\n",
      "Complex{Int64}\n",
      "String\n",
      "Bool\n"
     ]
    }
   ],
   "source": [
    "a = 2 # integer\n",
    "b = 3.14 # float\n",
    "c = 1+2im # complex integer\n",
    "d = \"text\" # string, note we need double quotes\n",
    "falsum = false # boolean\n",
    "\n",
    "# now we check what types our variables are\n",
    "println(typeof(a))\n",
    "println(typeof(b))\n",
    "println(typeof(c))\n",
    "println(typeof(d))\n",
    "println(typeof(falsum))"
   ]
  },
  {
   "cell_type": "markdown",
   "metadata": {},
   "source": [
    "## Scalar Arithmetic\n",
    "The syntax for scalar arithmetic and logic operations in Julia is similar to what one might intuitively expect and other programming languages."
   ]
  },
  {
   "cell_type": "code",
   "execution_count": 2,
   "metadata": {},
   "outputs": [
    {
     "name": "stdout",
     "output_type": "stream",
     "text": [
      "5\n",
      "28\n",
      "0.5714285714285714\n",
      "4\n",
      "243\n",
      "5//6\n"
     ]
    }
   ],
   "source": [
    "println(2+3) # addition\n",
    "println(4*7) # multiplication\n",
    "println(4/7) # division, (which is not integer division by default)\n",
    "println(11%7) # remainder\n",
    "println(3^5) # exponentiation\n",
    "println(1//2+1//3) # addition of fractions"
   ]
  },
  {
   "cell_type": "code",
   "execution_count": 3,
   "metadata": {},
   "outputs": [
    {
     "name": "stdout",
     "output_type": "stream",
     "text": [
      "false\n",
      "true\n",
      "false\n",
      "true\n"
     ]
    }
   ],
   "source": [
    "F = false\n",
    "T = true\n",
    "println(~T) # logical NOT\n",
    "println(T | F) # logical OR\n",
    "println(T & F) # logical AND\n",
    "println(xor(T,F)) # logical XOR"
   ]
  },
  {
   "cell_type": "code",
   "execution_count": 4,
   "metadata": {},
   "outputs": [
    {
     "name": "stdout",
     "output_type": "stream",
     "text": [
      "0.30816907111598496\n",
      "3.141592653589793\n",
      "1.0\n",
      "3.296908309475615\n"
     ]
    }
   ],
   "source": [
    "complex = pi+1im\n",
    "println(angle(complex)) # this gives the angle in radians\n",
    "println(real(complex)) # real part of the complex number\n",
    "println(imag(complex)) # imaginary part\n",
    "println(abs(complex)) # magnitude of the complex number"
   ]
  },
  {
   "cell_type": "markdown",
   "metadata": {},
   "source": [
    "## Arrays"
   ]
  },
  {
   "cell_type": "code",
   "execution_count": null,
   "metadata": {},
   "outputs": [],
   "source": [
    "A = [1,2,3] # a 3x1 array\n",
    "B = [4,5,6]\n",
    "R = [2 7 1] # note without the commas we obtain a 1x3 array\n",
    "B' # the ' sign indicates transpose\n",
    "println(R')\n",
    "println(R)"
   ]
  },
  {
   "cell_type": "markdown",
   "metadata": {},
   "source": [
    "Note that Julia starts indexing at 1, so to access the first element of an array we use A[1].  Furthermore, unlike in other programming languages, the last element of a range a:b is included."
   ]
  },
  {
   "cell_type": "code",
   "execution_count": null,
   "metadata": {},
   "outputs": [],
   "source": [
    "using LinearAlgebra # need this to use linear algebra operations"
   ]
  },
  {
   "cell_type": "code",
   "execution_count": null,
   "metadata": {},
   "outputs": [],
   "source": [
    "println(A+B) # addition\n",
    "println(A.*B) # elementwise multiplication\n",
    "println(dot(A,B)) # dot product\n",
    "println(cross(A,B)) # cross product\n",
    "println(A*B') # outer product, ' creates the transpose"
   ]
  },
  {
   "cell_type": "code",
   "execution_count": null,
   "metadata": {},
   "outputs": [],
   "source": [
    "A'*B"
   ]
  },
  {
   "cell_type": "markdown",
   "metadata": {},
   "source": [
    "## Matrices\n",
    "\n",
    "A matrix in Julia is simply a two-dimensional array and is therefore manipulated in a similar fashion.  In Julia, the indices [i,j] for an array give element at row i and column j.  In terms of memory, elements in high-dimensional arrays are stored in a column-major order, meaning that the element [i,j+1] comes after [i,j] in memory."
   ]
  },
  {
   "cell_type": "code",
   "execution_count": null,
   "metadata": {},
   "outputs": [],
   "source": [
    "M = [1 2 3; 4 5 6; 7 2 1] # semicolons separate the rows of the matrix"
   ]
  },
  {
   "cell_type": "code",
   "execution_count": null,
   "metadata": {},
   "outputs": [],
   "source": [
    "println(M[1,2]) # element at row 1, column 2\n",
    "println(M[:,1]) # all the elements of column 1\n",
    "println(M[1:2,:]) # elements 1 to 2 of each column\n",
    "println(M[[1,3],:]) # rows 1 and 3\n",
    "a = M[1,:]\n",
    "a[end-3]"
   ]
  },
  {
   "cell_type": "code",
   "execution_count": null,
   "metadata": {},
   "outputs": [],
   "source": [
    "println(det(M)) # determinant of the matrix\n",
    "println(eigen(M)) # eigenvalues AND corresponding eigenvectors\n",
    "@show inv(M) # inverse matrix"
   ]
  },
  {
   "cell_type": "code",
   "execution_count": null,
   "metadata": {},
   "outputs": [],
   "source": [
    "println(diag(M,0))"
   ]
  },
  {
   "cell_type": "code",
   "execution_count": null,
   "metadata": {},
   "outputs": [],
   "source": [
    "x = 3.5\n",
    "y = floor(x)\n",
    "Int(y)"
   ]
  },
  {
   "cell_type": "markdown",
   "metadata": {},
   "source": [
    "## Exercise 1: Solve Ax=b\n",
    "\n",
    "Solve the following system of equations,\n",
    "$$\n",
    "2\\alpha+8\\beta+\\gamma+3\\delta = 100 \\\\\n",
    "\\alpha+\\beta+9\\gamma+7\\delta = 143 \\\\\n",
    "4\\alpha+9\\beta+\\gamma+5\\delta = 111 \\\\\n",
    "4\\alpha+8\\beta+8\\gamma+2\\delta = 264\n",
    "$$"
   ]
  },
  {
   "cell_type": "code",
   "execution_count": 10,
   "metadata": {},
   "outputs": [
    {
     "data": {
      "text/plain": [
       "4-element Array{Float64,1}:\n",
       "  8.0              \n",
       " 11.0              \n",
       " 20.0              \n",
       " -7.999999999999998"
      ]
     },
     "execution_count": 10,
     "metadata": {},
     "output_type": "execute_result"
    }
   ],
   "source": [
    "A=[2 8 1 3; 1 1 9 7; 4 9 1 5;4 8 8 2]\n",
    "b=[100; 143; 111; 264]\n",
    "x=A\\b"
   ]
  },
  {
   "cell_type": "markdown",
   "metadata": {},
   "source": [
    "## Plotting\n",
    "With our knowlege of arrays, we can now plot some graphs.  First we will have to load the plotting functions.  For that, you may need the plotting package, which can be added with Pkg.add(\"PyPlot\")."
   ]
  },
  {
   "cell_type": "code",
   "execution_count": 21,
   "metadata": {},
   "outputs": [
    {
     "name": "stdout",
     "output_type": "stream",
     "text": [
      "\u001b[32m\u001b[1m Resolving\u001b[22m\u001b[39m package versions...\n",
      "\u001b[32m\u001b[1m  Updating\u001b[22m\u001b[39m `~/.julia/environments/v1.0/Project.toml`\n",
      "\u001b[90m [no changes]\u001b[39m\n",
      "\u001b[32m\u001b[1m  Updating\u001b[22m\u001b[39m `~/.julia/environments/v1.0/Manifest.toml`\n",
      "\u001b[90m [no changes]\u001b[39m\n",
      "\u001b[32m\u001b[1m  Updating\u001b[22m\u001b[39m registry at `~/.julia/registries/General`\n",
      "\u001b[32m\u001b[1m  Updating\u001b[22m\u001b[39m git-repo `https://github.com/JuliaRegistries/General.git`\n",
      "\u001b[?25l\u001b[2K\u001b[?25h\u001b[32m\u001b[1m Resolving\u001b[22m\u001b[39m package versions...\n",
      "\u001b[32m\u001b[1m  Updating\u001b[22m\u001b[39m `~/.julia/environments/v1.0/Project.toml`\n",
      "\u001b[90m [no changes]\u001b[39m\n",
      "\u001b[32m\u001b[1m  Updating\u001b[22m\u001b[39m `~/.julia/environments/v1.0/Manifest.toml`\n",
      "\u001b[90m [no changes]\u001b[39m\n"
     ]
    }
   ],
   "source": [
    "using Pkg\n",
    "Pkg.add(\"PyPlot\") # adds a plotting package\n",
    "Pkg.update() # updates all packages"
   ]
  },
  {
   "cell_type": "code",
   "execution_count": 11,
   "metadata": {},
   "outputs": [],
   "source": [
    "using PyPlot"
   ]
  },
  {
   "cell_type": "code",
   "execution_count": 28,
   "metadata": {},
   "outputs": [
    {
     "name": "stdout",
     "output_type": "stream",
     "text": [
      "\u001b[32m\u001b[1m Resolving\u001b[22m\u001b[39m package versions...\n",
      "\u001b[32m\u001b[1m  Updating\u001b[22m\u001b[39m `~/.julia/environments/v1.0/Project.toml`\n",
      "\u001b[90m [no changes]\u001b[39m\n",
      "\u001b[32m\u001b[1m  Updating\u001b[22m\u001b[39m `~/.julia/environments/v1.0/Manifest.toml`\n",
      "\u001b[90m [no changes]\u001b[39m\n",
      "\u001b[32m\u001b[1m  Updating\u001b[22m\u001b[39m registry at `~/.julia/registries/General`\n",
      "\u001b[32m\u001b[1m  Updating\u001b[22m\u001b[39m git-repo `https://github.com/JuliaRegistries/General.git`\n",
      "\u001b[?25l\u001b[2K\u001b[?25h\u001b[32m\u001b[1m Resolving\u001b[22m\u001b[39m package versions...\n",
      "\u001b[32m\u001b[1m  Updating\u001b[22m\u001b[39m"
     ]
    },
    {
     "data": {
      "image/png": "[encoded data removed]",
      "text/plain": [
       "Figure(PyObject <Figure size 640x480 with 1 Axes>)"
      ]
     },
     "metadata": {},
     "output_type": "display_data"
    },
    {
     "name": "stdout",
     "output_type": "stream",
     "text": [
      " `~/.julia/environments/v1.0/Project.toml`\n",
      "\u001b[90m [no changes]\u001b[39m\n",
      "\u001b[32m\u001b[1m  Updating\u001b[22m\u001b[39m `~/.julia/environments/v1.0/Manifest.toml`\n",
      "\u001b[90m [no changes]\u001b[39m\n"
     ]
    }
   ],
   "source": [
    "x = 0:0.01:5 # this object is called a range, its use is first:step:last\n",
    "y = exp.(-x).*cos.(5*x) # note the dot multiplication between the exponential and the cosine\n",
    "\n",
    "plot(x,y);"
   ]
  },
  {
   "cell_type": "code",
   "execution_count": 30,
   "metadata": {},
   "outputs": [
    {
     "data": {
      "image/png": "[encoded data removed]",
      "text/plain": [
       "Figure(PyObject <Figure size 640x480 with 1 Axes>)"
      ]
     },
     "metadata": {},
     "output_type": "display_data"
    },
    {
     "data": {
      "text/plain": [
       "PyObject <matplotlib.legend.Legend object at 0x7ff87ab06f98>"
      ]
     },
     "execution_count": 30,
     "metadata": {},
     "output_type": "execute_result"
    }
   ],
   "source": [
    "ω = -3:0.1:3\n",
    "F1 = sinc.(ω)\n",
    "F2 = exp.(-ω.^2)\n",
    "plot(ω,F1,label=\"F1\")\n",
    "plot(ω,F2,label=\"F2\")\n",
    "xlabel(\"Angular Frequency\")\n",
    "ylabel(\"Amplitude\")\n",
    "legend()"
   ]
  },
  {
   "cell_type": "markdown",
   "metadata": {},
   "source": [
    "## Functions\n",
    "\n",
    "Functions are highly useful in any programming language.  In Julia, user-defined functions usually begin with the statement function and must be terminated with end, however functions can also be written in-line."
   ]
  },
  {
   "cell_type": "code",
   "execution_count": null,
   "metadata": {},
   "outputs": [],
   "source": [
    "function test(a,b)\n",
    "    println(\"The sum of $(a) and $(b) is $(a+b)\")\n",
    "    return 7\n",
    "end # you must end a function with end\n",
    "\n",
    "f(x,a,b,c) = a*x^2+b*x+c\n",
    "\n",
    "test(3,4)\n",
    "println(f(10,1,2,1))"
   ]
  },
  {
   "cell_type": "markdown",
   "metadata": {},
   "source": [
    "Conditional statements have similar syntax as functions in that the condition must be terminated by end.  Loops also use similar syntax."
   ]
  },
  {
   "cell_type": "code",
   "execution_count": 31,
   "metadata": {},
   "outputs": [
    {
     "name": "stdout",
     "output_type": "stream",
     "text": [
      "101 is odd\n"
     ]
    }
   ],
   "source": [
    "function odd_or_even(a)\n",
    "    rem = a%2\n",
    "    if rem == 0 # note the use of == rather than =\n",
    "        println(\"$(a) is even\")\n",
    "    elseif rem == 1 # we could also just replace this with 'else'\n",
    "        println(\"$(a) is odd\")\n",
    "    end\n",
    "end\n",
    "\n",
    "odd_or_even(101)"
   ]
  },
  {
   "cell_type": "code",
   "execution_count": 32,
   "metadata": {},
   "outputs": [
    {
     "data": {
      "text/plain": [
       "25"
      ]
     },
     "execution_count": 32,
     "metadata": {},
     "output_type": "execute_result"
    }
   ],
   "source": [
    "function cumulative_sum(array)\n",
    "    total = 0\n",
    "    for i=1:length(array)\n",
    "        total += array[i]\n",
    "    end\n",
    "    return total\n",
    "end\n",
    "\n",
    "cumulative_sum([1,4,5,8,7])"
   ]
  },
  {
   "cell_type": "code",
   "execution_count": 33,
   "metadata": {},
   "outputs": [
    {
     "data": {
      "text/plain": [
       "simple_ode (generic function with 1 method)"
      ]
     },
     "execution_count": 33,
     "metadata": {},
     "output_type": "execute_result"
    }
   ],
   "source": [
    "function simple_ode(y0,t)\n",
    "    # this function gives the numerical solution to the ODE dy/dt(t) = e^(-t) with initial condition y(0) = y0\n",
    "    y = zeros(length(t)) # need solution output to be of the same size\n",
    "    y[1] = y0\n",
    "    dt = t[2]-t[1] # extract the timestep\n",
    "    for i=2:length(t)\n",
    "        y[i] = y[i-1]+dt*exp(-t[i])\n",
    "    end\n",
    "    return y\n",
    "end"
   ]
  },
  {
   "cell_type": "code",
   "execution_count": 34,
   "metadata": {},
   "outputs": [
    {
     "data": {
      "image/png": "[encoded data removed]",
      "text/plain": [
       "Figure(PyObject <Figure size 640x480 with 1 Axes>)"
      ]
     },
     "metadata": {},
     "output_type": "display_data"
    },
    {
     "data": {
      "text/plain": [
       "1-element Array{PyCall.PyObject,1}:\n",
       " PyObject <matplotlib.lines.Line2D object at 0x7ff87aa75ef0>"
      ]
     },
     "execution_count": 34,
     "metadata": {},
     "output_type": "execute_result"
    }
   ],
   "source": [
    "y0 = 5\n",
    "t = 0:0.1:10\n",
    "y = simple_ode(y0,t)\n",
    "plot(t,y)"
   ]
  },
  {
   "cell_type": "markdown",
   "metadata": {},
   "source": [
    "## Exercise 2: Lorenz Attractor\n",
    "\n",
    "Visualise the trajectory,\n",
    "$$\n",
    "\\frac{dx}{dt} = \\sigma(y-x) \\\\\n",
    "\\frac{dy}{dt} = x(\\rho-z) - y \\\\\n",
    "\\frac{dz}{dt} = xy-\\beta z,\n",
    "$$\n",
    "\n",
    "for $x(0) = y(0) = z(0) = 1$, $t \\in [0,100]$, $\\sigma = 10$, $\\rho = 28$ and $\\beta = 8/3$.\n",
    "\n",
    "To create 3-dimensional plots of a tracjetory, the plot3D(x,y,z) function can be used. Note: make your timestep small."
   ]
  },
  {
   "cell_type": "code",
   "execution_count": 21,
   "metadata": {},
   "outputs": [
    {
     "data": {
      "text/plain": [
       "Lorentz (generic function with 1 method)"
      ]
     },
     "execution_count": 21,
     "metadata": {},
     "output_type": "execute_result"
    }
   ],
   "source": [
    "function Lorentz(x0, y0, z0, t, σ, ρ, β)\n",
    "    X = zeros(length(t)) # need solution output to be of the same size\n",
    "    Y = zeros(length(t)) # need solution output to be of the same size\n",
    "    Z = zeros(length(t)) # need solution output to be of the same size\n",
    "    X[1] = x0\n",
    "    Y[1] = y0\n",
    "    Z[1] = z0\n",
    "    dt=t[2]-t[1]\n",
    "    for i=2:length(t)\n",
    "        X[i] = X[i-1]+dt*(σ*(Y[i-1]-X[i-1]))\n",
    "        Y[i] = Y[i-1]+dt*(X[i-1]*(ρ-Z[i-1])-dt*Y[i-1])\n",
    "        Z[i] = Z[i-1]+dt*(X[i-1]*Y[i]-dt*β*Z[i-1])        \n",
    "    end\n",
    "    return X, Y, Z\n",
    "end\n",
    "    "
   ]
  },
  {
   "cell_type": "code",
   "execution_count": 22,
   "metadata": {},
   "outputs": [
    {
     "data": {
      "image/png": "[encoded data removed]",
      "text/plain": [
       "Figure(PyObject <Figure size 640x480 with 1 Axes>)"
      ]
     },
     "metadata": {},
     "output_type": "display_data"
    },
    {
     "data": {
      "text/plain": [
       "1-element Array{PyCall.PyObject,1}:\n",
       " PyObject <mpl_toolkits.mplot3d.art3d.Line3D object at 0x7fb35ed1c048>"
      ]
     },
     "execution_count": 22,
     "metadata": {},
     "output_type": "execute_result"
    }
   ],
   "source": [
    "x0=1\n",
    "y0=1\n",
    "z0=1\n",
    "t=0:0.01:100\n",
    "σ=10\n",
    "ρ=28\n",
    "β=8/3\n",
    "x, y, z = Lorentz(x0, y0, z0, t, σ, ρ, β);\n",
    "\n",
    "plot3D(x[1:100], y[1:100], z[1:100])\n",
    "plot3D(x[101:200], y[101:200], z[101:200])"
   ]
  },
  {
   "cell_type": "markdown",
   "metadata": {},
   "source": [
    "## Pseudo-Random Number Generation\n",
    "\n",
    "Random number generation is vital for stochastic simulations.  Pseudorandom numbers can be easily generated in Julia, and the seed can also be defined.  When we define the seed, this fixes the random numbers generated, allowing stochastic simulations to be replicated."
   ]
  },
  {
   "cell_type": "code",
   "execution_count": 39,
   "metadata": {},
   "outputs": [
    {
     "data": {
      "text/plain": [
       "3-element Array{Float64,1}:\n",
       " 0.3398839766238848\n",
       " 0.4924030858257087\n",
       " 0.3455395637503291"
      ]
     },
     "execution_count": 39,
     "metadata": {},
     "output_type": "execute_result"
    }
   ],
   "source": [
    "using Random\n",
    "rand(3) # generates 3 uniform [0,1) random numbers"
   ]
  },
  {
   "cell_type": "code",
   "execution_count": 36,
   "metadata": {},
   "outputs": [
    {
     "data": {
      "text/plain": [
       "3×4 Array{Float64,2}:\n",
       " 2.0  5.5  2.0  6.5\n",
       " 3.5  1.5  1.0  4.5\n",
       " 6.5  4.0  2.0  3.0"
      ]
     },
     "execution_count": 36,
     "metadata": {},
     "output_type": "execute_result"
    }
   ],
   "source": [
    "rand(0.5:0.5:7.5,(3,4))"
   ]
  },
  {
   "cell_type": "code",
   "execution_count": 40,
   "metadata": {},
   "outputs": [
    {
     "data": {
      "text/plain": [
       "0.30689256871498166"
      ]
     },
     "execution_count": 40,
     "metadata": {},
     "output_type": "execute_result"
    }
   ],
   "source": [
    "randn(1) # generates a normally distributed random number, with zero mean and unit variance"
   ]
  },
  {
   "cell_type": "code",
   "execution_count": 49,
   "metadata": {},
   "outputs": [
    {
     "data": {
      "text/plain": [
       "4×4 Array{Float64,2}:\n",
       " -1.55455   -0.0338454  -0.0957289  -0.120225\n",
       " -1.6934     1.05643     1.4864     -1.06746 \n",
       "  0.230284   0.186309   -0.808663    1.80549 \n",
       "  2.07773   -0.475462   -0.237713    0.349928"
      ]
     },
     "execution_count": 49,
     "metadata": {},
     "output_type": "execute_result"
    }
   ],
   "source": [
    "Random.seed!(1000) # set the random seed\n",
    "randn(4,4) # generate a 4x4 matrix of normally distributed random numbers"
   ]
  },
  {
   "cell_type": "markdown",
   "metadata": {},
   "source": [
    "Notice what happens when the code blocks without the random seed are rerun and when the code block with the fixed random see is rerun."
   ]
  },
  {
   "cell_type": "code",
   "execution_count": 52,
   "metadata": {},
   "outputs": [
    {
     "data": {
      "text/plain": [
       "10-element Array{Float64,1}:\n",
       " 0.8657126647798942  \n",
       " 0.40039176165083706 \n",
       " 0.6181803038532185  \n",
       " 0.004940593522876804\n",
       " 0.9771684476706224  \n",
       " 0.17585710795626472 \n",
       " 1.8083125996994789  \n",
       " 0.15008681344635458 \n",
       " 1.0659533587980339  \n",
       " 4.47158886925886    "
      ]
     },
     "execution_count": 52,
     "metadata": {},
     "output_type": "execute_result"
    }
   ],
   "source": [
    "n = zeros(10)\n",
    "randexp!(n) # here we have a predefined array and give each value an exponentially distributed random number"
   ]
  },
  {
   "cell_type": "markdown",
   "metadata": {},
   "source": [
    "In built functions also exist for calculating summary statistics, such as the mean and the variance."
   ]
  },
  {
   "cell_type": "code",
   "execution_count": null,
   "metadata": {},
   "outputs": [],
   "source": [
    "using Statistics\n",
    "println(mean(n))\n",
    "println(var(n))"
   ]
  },
  {
   "cell_type": "code",
   "execution_count": null,
   "metadata": {},
   "outputs": [],
   "source": [
    "a = 4\n",
    "b = 5\n",
    "counter = 0\n",
    "if a < b \n",
    "    counter += 1\n",
    "    println(\"inside\")\n",
    "end\n",
    "print(counter)"
   ]
  },
  {
   "cell_type": "code",
   "execution_count": null,
   "metadata": {},
   "outputs": [],
   "source": [
    "## Exercise 3: Estimate Pi\n",
    "\n",
    "Estimate $\\pi$ by generating random numbers.  Hint: generate x and y in the interval [0,1) and see how many of these satisfy $x^2+y^2 < 1$."
   ]
  },
  {
   "cell_type": "code",
   "execution_count": 35,
   "metadata": {},
   "outputs": [
    {
     "name": "stdout",
     "output_type": "stream",
     "text": [
      "3.1437"
     ]
    }
   ],
   "source": [
    "using Random\n",
    "counter=0\n",
    "Random.seed!(1000) \n",
    "max=1000000\n",
    "for i=1:max\n",
    "    x,y =rand(2)\n",
    "    if (x^2+y^2 <= 1)\n",
    "        counter += 1\n",
    "    end\n",
    "end\n",
    "print(4*counter/max)    \n"
   ]
  },
  {
   "cell_type": "markdown",
   "metadata": {},
   "source": [
    "## File Input/Output\n",
    "Files can be saved and read using the dlmsave and dlmread functions."
   ]
  },
  {
   "cell_type": "code",
   "execution_count": null,
   "metadata": {},
   "outputs": [],
   "source": [
    "using DelimitedFiles\n",
    "Random.seed!(1000)\n",
    "t = 1:1:100\n",
    "x = rand(100)\n",
    "y = x.^2\n",
    "writedlm(\"test_numbers.txt\",[t x y]) # this will save three columns of data, check your file by opening it"
   ]
  },
  {
   "cell_type": "code",
   "execution_count": null,
   "metadata": {},
   "outputs": [],
   "source": [
    "data = readdlm(\"test_numbers.txt\")\n",
    "T = data[:,1]\n",
    "X = data[:,2]\n",
    "Y = data[:,3]\n",
    "plot(T,X)\n",
    "plot(T,Y)"
   ]
  },
  {
   "cell_type": "markdown",
   "metadata": {},
   "source": [
    "## Exercise 4: Ising Model\n",
    "\n",
    "The Ising model was developed for ferromagnetism and is a simple model for looking at phase transitions.  Consider a lattice with $L$ sites, where each site $i$ has a spin $\\sigma$ which can be -1 or +1,\n",
    "\n",
    "$$\n",
    "\\sigma_i \\in \\{-1,+1\\}.\n",
    "$$\n",
    "\n",
    "The energy of the system is given by,\n",
    "$$\n",
    "H(\\sigma) = -J\\sum_{i,j}\\sigma_i\\sigma_j,\n",
    "$$\n",
    "where we will only consider interactions between nearest neighbours $(i,j)$ to contribute to the energy of the system.  The spin of each site can change if it minimises the energy of the system.\n",
    "\n",
    "The goal of this exercise is to create a simulation of the Ising model using a Metropolis-Hastings algorithm.  This algorithm has the following steps:\n",
    "\n",
    "1 - Choose a site $i$ on the lattice randomly with probability $p$.\n",
    "\n",
    "2 - Flip the state of site $i$ (multiply $\\sigma_i$ by -1).\n",
    "\n",
    "3 - If the new energy with the flipped site is lower than it was before, keep the site flipped.\n",
    "\n",
    "4 - If the new energy is larger, keep the site flipped with probability $\\exp[-\\beta(H_{new}-H_{old}]$.\n",
    "\n",
    "5 - Repeat steps 1-4 until the system reaches a steady state.\n",
    "\n",
    "To give an example of how the energy is calculated, consider a lattice with $L=5$ with spins,\n",
    "$$\n",
    "\\{-1,1,1,-1,1\\}.\n",
    "$$\n",
    "Here the energy is $H = -[(-1\\times 1)+(1\\times 1)+(1\\times -1)+(-1\\times 1)] = -[-1+1-1-1] = 2$, where we have assumed $J=1$.\n",
    "\n",
    "Areas to investigate:\n",
    "\n",
    "a) How does the initial condition of the lattice change the final structure?  Try implementing a random initial condition as well.\n",
    "\n",
    "b) How does the parameter $J$ qualitatively affect the lattice?  Try $J > 0 $ and $J < 0$.\n",
    "\n",
    "c) How does the parameter $\\beta$ qualitatively affect the lattice? Note $\\beta > 0$.\n",
    "\n",
    "d) Try a 2-d lattice in addition to a 1-d lattice.\n",
    "\n",
    "e) Extract the final value of $H$ and plot how it varies with the two parameters."
   ]
  },
  {
   "cell_type": "code",
   "execution_count": 119,
   "metadata": {},
   "outputs": [
    {
     "data": {
      "text/plain": [
       "MH_Ising (generic function with 1 method)"
      ]
     },
     "execution_count": 119,
     "metadata": {},
     "output_type": "execute_result"
    }
   ],
   "source": [
    "function H_computation(LATTICE, J)\n",
    "    H=0\n",
    "    for i=1:(length(LATTICE)-1)\n",
    "        H+=LATTICE[i]*LATTICE[i+1]\n",
    "    end\n",
    "    H=(-J)*H\n",
    "end\n",
    "\n",
    "\n",
    "function MH_Ising(LATTICE, J, β)\n",
    "    H=length(N)\n",
    "    s=1\n",
    "    change=false\n",
    "    H_current=H_computation(LATTICE, J)\n",
    "    H[1]=H_current\n",
    "    for k=1:N\n",
    "        i=rand(1:L)\n",
    "        lattice_prime=LATTICE\n",
    "        lattice_prime[i]=LATTICE[i]*(-1)\n",
    "        H_prime=H_computation(lattice_prime, J)\n",
    "        if H_prime<H_current\n",
    "            LATTICE=lattice_prime\n",
    "            H_current=H_prime\n",
    "        else\n",
    "            prob=exp(-β*(H_prime-H_current))\n",
    "            if prob>rand(1)\n",
    "                LATTICE=lattice_prime\n",
    "                H_current=H_prime\n",
    "            else\n",
    "                change=false\n",
    "            end\n",
    "        end\n",
    "        H[s+1]=H_current\n",
    "        s+=1\n",
    "    end\n",
    "    return LATTICE, H\n",
    "end\n"
   ]
  },
  {
   "cell_type": "code",
   "execution_count": 120,
   "metadata": {},
   "outputs": [
    {
     "ename": "MethodError",
     "evalue": "MethodError: no method matching setindex!(::Int64, ::Int64, ::Int64)",
     "output_type": "error",
     "traceback": [
      "MethodError: no method matching setindex!(::Int64, ::Int64, ::Int64)",
      "",
      "Stacktrace:",
      " [1] MH_Ising(::Array{Int64,1}, ::Int64, ::Int64) at ./In[119]:15",
      " [2] top-level scope at In[120]:6"
     ]
    }
   ],
   "source": [
    "L=20  #setting the number of sites\n",
    "lattice= rand([-1,1], L) \n",
    "J=1\n",
    "β=1\n",
    "N=1000\n",
    "MH_Ising(lattice, J, β)"
   ]
  },
  {
   "cell_type": "code",
   "execution_count": 103,
   "metadata": {},
   "outputs": [
    {
     "data": {
      "text/plain": [
       "1-element Array{Float64,1}:\n",
       " 0.29270450109059376"
      ]
     },
     "execution_count": 103,
     "metadata": {},
     "output_type": "execute_result"
    }
   ],
   "source": []
  },
  {
   "cell_type": "code",
   "execution_count": 93,
   "metadata": {},
   "outputs": [
    {
     "data": {
      "text/plain": [
       "true"
      ]
     },
     "execution_count": 93,
     "metadata": {},
     "output_type": "execute_result"
    }
   ],
   "source": [
    "H_prime=H_computation(lattice_prime, 1)\n",
    "H_prime<H_current\n"
   ]
  },
  {
   "cell_type": "code",
   "execution_count": 71,
   "metadata": {},
   "outputs": [
    {
     "ename": "BoundsError",
     "evalue": "BoundsError: attempt to access 0-element Array{Any,1} at index [1]",
     "output_type": "error",
     "traceback": [
      "BoundsError: attempt to access 0-element Array{Any,1} at index [1]",
      "",
      "Stacktrace:",
      " [1] setindex!(::Array{Any,1}, ::Any, ::Int64) at ./essentials.jl:440",
      " [2] MH_Ising(::Array{Int64,1}, ::Int64, ::Int64) at ./In[69]:14",
      " [3] top-level scope at In[71]:3"
     ]
    }
   ],
   "source": [
    "L=20  #setting the number of sites\n",
    "lattice= rand([-1,1], L) \n",
    "final_lattice, final_H=MH_Ising(lattice, 1, 1)"
   ]
  },
  {
   "cell_type": "code",
   "execution_count": 68,
   "metadata": {},
   "outputs": [
    {
     "ename": "MethodError",
     "evalue": "MethodError: no method matching isless(::Array{Float64,1}, ::Float64)\nClosest candidates are:\n  isless(!Matched::Float64, ::Float64) at float.jl:459\n  isless(!Matched::Missing, ::Any) at missing.jl:66\n  isless(!Matched::PyCall.PyObject, ::Any) at /home/fbasini/.julia/packages/PyCall/ttONZ/src/pyoperators.jl:75\n  ...",
     "output_type": "error",
     "traceback": [
      "MethodError: no method matching isless(::Array{Float64,1}, ::Float64)\nClosest candidates are:\n  isless(!Matched::Float64, ::Float64) at float.jl:459\n  isless(!Matched::Missing, ::Any) at missing.jl:66\n  isless(!Matched::PyCall.PyObject, ::Any) at /home/fbasini/.julia/packages/PyCall/ttONZ/src/pyoperators.jl:75\n  ...",
      "",
      "Stacktrace:",
      " [1] <(::Array{Float64,1}, ::Float64) at ./operators.jl:260",
      " [2] >(::Float64, ::Array{Float64,1}) at ./operators.jl:286",
      " [3] MH_Ising(::Array{Int64,1}, ::Int64, ::Int64) at ./In[60]:22",
      " [4] top-level scope at In[68]:1"
     ]
    }
   ],
   "source": [
    "final_latt=MH_Ising(lattice, 1, 1)"
   ]
  },
  {
   "cell_type": "markdown",
   "metadata": {},
   "source": [
    "## Advanced: Structs\n",
    "\n",
    "A struct is a composite type, meaning that it is an object which can hold different objects which have different types.  They are useful for compactly holding a large set of values.\n",
    "\n",
    "(For Python users, they are similar to classes.  However, with the exception of inner constructors, methods cannot be defined within the struct.)"
   ]
  },
  {
   "cell_type": "code",
   "execution_count": null,
   "metadata": {},
   "outputs": [],
   "source": [
    "struct Planet\n",
    "    name::String\n",
    "    mass::Float64 # in kilograms\n",
    "    rad::Float64 # in metres\n",
    "end\n",
    "# note structs DO NOT like be redefined, if you need to change the definition in a jupyter notebook:\n",
    "# either rename the struct (eg Planet2) or restart the kernel"
   ]
  },
  {
   "cell_type": "code",
   "execution_count": null,
   "metadata": {},
   "outputs": [],
   "source": [
    "earth = Planet(\"Earth\",6.0e24,6.4e6) # this is how we define an object of composite type Planet"
   ]
  },
  {
   "cell_type": "code",
   "execution_count": null,
   "metadata": {},
   "outputs": [],
   "source": [
    "# attributes of the struct are accessed with .\n",
    "println(earth.name)\n",
    "println(earth.mass)\n",
    "println(earth.rad)"
   ]
  },
  {
   "cell_type": "code",
   "execution_count": null,
   "metadata": {},
   "outputs": [],
   "source": [
    "# what happens if we try to change the mass of the Earth?\n",
    "earth.mass = 1.0"
   ]
  },
  {
   "cell_type": "code",
   "execution_count": null,
   "metadata": {},
   "outputs": [],
   "source": [
    "# what happens if we try to define a Planet which has types which do not correspont to our struct?\n",
    "bizarro = Planet(false, 1, ['a','b'])"
   ]
  },
  {
   "cell_type": "code",
   "execution_count": null,
   "metadata": {},
   "outputs": [],
   "source": [
    "# let's create a function that uses the Planet struct\n",
    "const G = 6.67e-11\n",
    "\n",
    "function surface_gravity(p::Planet)\n",
    "    return G*p.mass/p.rad^2\n",
    "end"
   ]
  },
  {
   "cell_type": "code",
   "execution_count": null,
   "metadata": {},
   "outputs": [],
   "source": [
    "surface_gravity(earth)"
   ]
  },
  {
   "cell_type": "code",
   "execution_count": null,
   "metadata": {},
   "outputs": [],
   "source": [
    "# mutable structs allow their attributes to be changed\n",
    "mutable struct Body\n",
    "    m::Float64 # in kilograms\n",
    "    x::Float64 # x position m\n",
    "    y::Float64 # y position\n",
    "    vx::Float64 # x velocity\n",
    "    vy::Float64 # y velocity\n",
    "end"
   ]
  },
  {
   "cell_type": "markdown",
   "metadata": {},
   "source": [
    "## Exercise 5: Orbits\n",
    "\n",
    "Given that the gravitational acceleration of two objects separated by a displacement vector $\\vec{r}_{21} = \\vec{r}_1-\\vec{r}_2$ (with unit vector $\\hat{r}_{21}$) is given by,\n",
    "\n",
    "$ \\vec{a}_{1} = -\\frac{G m_2}{|\\vec{r}_{21}|^2}\\hat{r}_{21}$\n",
    "\n",
    "create a simulation that generates the trajectories of the two-body problem.  You may find it helpful to use the Body struct, but you do not have to.  Since the acceleration depends entirely on position, Verlet integration is a useful and simple scheme to implement (https://en.wikipedia.org/wiki/Verlet_integration).  Use the parameters for the examples given first (A and B, then C and D), then experiment with your own parameters.\n",
    "\n",
    "Areas to investigate:\n",
    "\n",
    "a) What sets of parameters given stable orbits?\n",
    "\n",
    "b) How would you implement the three-body problem?"
   ]
  },
  {
   "cell_type": "code",
   "execution_count": null,
   "metadata": {},
   "outputs": [],
   "source": [
    "A = Body(1/G,0.0,0.0,0.0,0.0)\n",
    "B = Body(0.001/G,1.0,0.0,0.0,1.0)\n",
    "C = Body(1/G,0.0,0.0,0.0,0.5)\n",
    "D = Body(1/G,2.0,2.0,0.0,-0.5);"
   ]
  },
  {
   "cell_type": "code",
   "execution_count": null,
   "metadata": {},
   "outputs": [],
   "source": [
    "N = 100\n",
    "dt = 0.1"
   ]
  },
  {
   "cell_type": "code",
   "execution_count": null,
   "metadata": {},
   "outputs": [],
   "source": []
  }
 ],
 "metadata": {
  "kernelspec": {
   "display_name": "Julia 1.0.4",
   "language": "julia",
   "name": "julia-1.0"
  },
  "language_info": {
   "file_extension": ".jl",
   "mimetype": "application/julia",
   "name": "julia",
   "version": "1.0.4"
  }
 },
 "nbformat": 4,
 "nbformat_minor": 2
}
